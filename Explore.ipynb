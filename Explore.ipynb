{
 "cells": [
  {
   "cell_type": "code",
   "execution_count": 16,
   "metadata": {
    "collapsed": true
   },
   "outputs": [],
   "source": [
    "import pandas as pd\n",
    "%matplotlib inline"
   ]
  },
  {
   "cell_type": "code",
   "execution_count": 54,
   "metadata": {},
   "outputs": [],
   "source": [
    "dateparse=lambda x: pd.datetime.strptime(x, '%Y-%m-%d %H:%M:%S.%f')\n",
    "df=pd.read_csv('dataset_mood_smartphone.csv', header=1, names=['uid','patient','time','variable','value'], parse_dates=['time'], date_parser=dateparse)"
   ]
  },
  {
   "cell_type": "code",
   "execution_count": 47,
   "metadata": {},
   "outputs": [
    {
     "data": {
      "text/html": [
       "<div>\n",
       "<style>\n",
       "    .dataframe thead tr:only-child th {\n",
       "        text-align: right;\n",
       "    }\n",
       "\n",
       "    .dataframe thead th {\n",
       "        text-align: left;\n",
       "    }\n",
       "\n",
       "    .dataframe tbody tr th {\n",
       "        vertical-align: top;\n",
       "    }\n",
       "</style>\n",
       "<table border=\"1\" class=\"dataframe\">\n",
       "  <thead>\n",
       "    <tr style=\"text-align: right;\">\n",
       "      <th></th>\n",
       "      <th>uid</th>\n",
       "      <th>id</th>\n",
       "      <th>time</th>\n",
       "      <th>variable</th>\n",
       "      <th>value</th>\n",
       "    </tr>\n",
       "  </thead>\n",
       "  <tbody>\n",
       "    <tr>\n",
       "      <th>164979</th>\n",
       "      <td>799291</td>\n",
       "      <td>AS14.12</td>\n",
       "      <td>2014-04-16 22:22:57.227</td>\n",
       "      <td>appCat.builtin</td>\n",
       "      <td>1.009</td>\n",
       "    </tr>\n",
       "    <tr>\n",
       "      <th>102151</th>\n",
       "      <td>102153</td>\n",
       "      <td>AS14.24</td>\n",
       "      <td>2014-04-18 19:04:51.263</td>\n",
       "      <td>screen</td>\n",
       "      <td>15.054</td>\n",
       "    </tr>\n",
       "    <tr>\n",
       "      <th>166494</th>\n",
       "      <td>823671</td>\n",
       "      <td>AS14.12</td>\n",
       "      <td>2014-04-24 15:19:25.000</td>\n",
       "      <td>appCat.builtin</td>\n",
       "      <td>4.049</td>\n",
       "    </tr>\n",
       "    <tr>\n",
       "      <th>289883</th>\n",
       "      <td>383265</td>\n",
       "      <td>AS14.25</td>\n",
       "      <td>2014-04-30 12:35:48.111</td>\n",
       "      <td>appCat.communication</td>\n",
       "      <td>220.407</td>\n",
       "    </tr>\n",
       "    <tr>\n",
       "      <th>302322</th>\n",
       "      <td>435574</td>\n",
       "      <td>AS14.30</td>\n",
       "      <td>2014-04-08 10:11:12.135</td>\n",
       "      <td>appCat.communication</td>\n",
       "      <td>163.176</td>\n",
       "    </tr>\n",
       "    <tr>\n",
       "      <th>33185</th>\n",
       "      <td>33187</td>\n",
       "      <td>AS14.26</td>\n",
       "      <td>2014-05-07 23:00:00.000</td>\n",
       "      <td>activity</td>\n",
       "      <td>0.000</td>\n",
       "    </tr>\n",
       "    <tr>\n",
       "      <th>81293</th>\n",
       "      <td>81295</td>\n",
       "      <td>AS14.13</td>\n",
       "      <td>2014-04-27 06:11:25.696</td>\n",
       "      <td>screen</td>\n",
       "      <td>10.607</td>\n",
       "    </tr>\n",
       "    <tr>\n",
       "      <th>367520</th>\n",
       "      <td>1836951</td>\n",
       "      <td>AS14.30</td>\n",
       "      <td>2014-04-11 15:54:21.367</td>\n",
       "      <td>appCat.social</td>\n",
       "      <td>10.044</td>\n",
       "    </tr>\n",
       "    <tr>\n",
       "      <th>71057</th>\n",
       "      <td>71059</td>\n",
       "      <td>AS14.09</td>\n",
       "      <td>2014-04-25 16:57:13.283</td>\n",
       "      <td>screen</td>\n",
       "      <td>12.134</td>\n",
       "    </tr>\n",
       "    <tr>\n",
       "      <th>297064</th>\n",
       "      <td>415823</td>\n",
       "      <td>AS14.28</td>\n",
       "      <td>2014-04-30 21:18:28.006</td>\n",
       "      <td>appCat.communication</td>\n",
       "      <td>8.177</td>\n",
       "    </tr>\n",
       "  </tbody>\n",
       "</table>\n",
       "</div>"
      ],
      "text/plain": [
       "            uid       id                    time              variable  \\\n",
       "164979   799291  AS14.12 2014-04-16 22:22:57.227        appCat.builtin   \n",
       "102151   102153  AS14.24 2014-04-18 19:04:51.263                screen   \n",
       "166494   823671  AS14.12 2014-04-24 15:19:25.000        appCat.builtin   \n",
       "289883   383265  AS14.25 2014-04-30 12:35:48.111  appCat.communication   \n",
       "302322   435574  AS14.30 2014-04-08 10:11:12.135  appCat.communication   \n",
       "33185     33187  AS14.26 2014-05-07 23:00:00.000              activity   \n",
       "81293     81295  AS14.13 2014-04-27 06:11:25.696                screen   \n",
       "367520  1836951  AS14.30 2014-04-11 15:54:21.367         appCat.social   \n",
       "71057     71059  AS14.09 2014-04-25 16:57:13.283                screen   \n",
       "297064   415823  AS14.28 2014-04-30 21:18:28.006  appCat.communication   \n",
       "\n",
       "          value  \n",
       "164979    1.009  \n",
       "102151   15.054  \n",
       "166494    4.049  \n",
       "289883  220.407  \n",
       "302322  163.176  \n",
       "33185     0.000  \n",
       "81293    10.607  \n",
       "367520   10.044  \n",
       "71057    12.134  \n",
       "297064    8.177  "
      ]
     },
     "execution_count": 47,
     "metadata": {},
     "output_type": "execute_result"
    }
   ],
   "source": [
    "df.sample(10)"
   ]
  },
  {
   "cell_type": "code",
   "execution_count": 55,
   "metadata": {},
   "outputs": [
    {
     "data": {
      "text/plain": [
       "27"
      ]
     },
     "execution_count": 55,
     "metadata": {},
     "output_type": "execute_result"
    }
   ],
   "source": [
    "# how many patients?\n",
    "df.patient.unique().size"
   ]
  },
  {
   "cell_type": "code",
   "execution_count": 56,
   "metadata": {},
   "outputs": [
    {
     "data": {
      "image/png": "[encoded data removed]",
      "text/plain": [
       "<matplotlib.figure.Figure at 0x11aee7b00>"
      ]
     },
     "metadata": {},
     "output_type": "display_data"
    }
   ],
   "source": [
    "# which are the popular variables?\n",
    "pd.DataFrame(df.variable.value_counts()).plot.bar();"
   ]
  }
 ],
 "metadata": {
  "kernelspec": {
   "display_name": "Python 3",
   "language": "python",
   "name": "python3"
  },
  "language_info": {
   "codemirror_mode": {
    "name": "ipython",
    "version": 3
   },
   "file_extension": ".py",
   "mimetype": "text/x-python",
   "name": "python",
   "nbconvert_exporter": "python",
   "pygments_lexer": "ipython3",
   "version": "3.6.2"
  }
 },
 "nbformat": 4,
 "nbformat_minor": 2
}
